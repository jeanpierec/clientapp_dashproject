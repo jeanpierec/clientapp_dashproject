{
 "cells": [
  {
   "cell_type": "code",
   "execution_count": 2,
   "id": "67d11548-ca4d-442f-8bc3-5b7d0a5a7f4f",
   "metadata": {},
   "outputs": [],
   "source": [
    "import dash\n",
    "from dash import dcc\n",
    "from dash import html\n",
    "from dash.dependencies import Input, Output\n",
    "import psycopg2"
   ]
  },
  {
   "cell_type": "code",
   "execution_count": 3,
   "id": "8e1e18b3-d258-4d4d-9121-66a2915ebfea",
   "metadata": {},
   "outputs": [],
   "source": [
    "conn = psycopg2.connect(\"host=localhost dbname=luka user=ljpcastroc password=password\")"
   ]
  },
  {
   "cell_type": "code",
   "execution_count": 5,
   "id": "a4720480-b4f2-40c2-bc16-cba0f5e4a2b6",
   "metadata": {},
   "outputs": [],
   "source": [
    "def search_document(document):\n",
    "    cur = conn.cursor()\n",
    "    cur.execute(\"SELECT * FROM clientes WHERE document = %s\", (document,))\n",
    "    rows = cur.fetchall()\n",
    "    cur.close()\n",
    "    return rows"
   ]
  },
  {
   "cell_type": "code",
   "execution_count": 6,
   "id": "b5a350fc-2858-4feb-848c-08be14c403e1",
   "metadata": {},
   "outputs": [],
   "source": [
    "app = dash.Dash(__name__)\n",
    "\n",
    "app.layout = html.Div([\n",
    "    html.H1(\"Consulta de Datos\"),\n",
    "    dcc.Input(id=\"input-document\", type=\"text\", placeholder=\"Ingrese el número de documento\"),\n",
    "    html.Button(id=\"submit-button\", n_clicks=0, children=\"Buscar\"),\n",
    "    html.Table(id=\"table-results\", children=[\n",
    "        html.Thead([\n",
    "            html.Th(\"ID\"),\n",
    "            html.Th(\"Nombre\"),\n",
    "            html.Th(\"Apellido\"),\n",
    "            html.Th(\"Email\"),\n",
    "            html.Th(\"Género\"),\n",
    "            html.Th(\"IP Address\"),\n",
    "            html.Th(\"Móvil\"),\n",
    "            html.Th(\"Estado\"),\n",
    "            html.Th(\"Documento\"),\n",
    "            html.Th(\"Tipo de Documento\"),\n",
    "            html.Th(\"Pago\")\n",
    "        ]),\n",
    "        html.Tbody(id=\"table-body\")\n",
    "    ])\n",
    "])"
   ]
  },
  {
   "cell_type": "code",
   "execution_count": 7,
   "id": "533f19f2-53b8-4541-9ebf-54548327b8eb",
   "metadata": {},
   "outputs": [],
   "source": [
    "@app.callback(\n",
    "    Output(\"table-body\", \"children\"),\n",
    "    [Input(\"submit-button\", \"n_clicks\")],\n",
    "    [Input(\"input-document\", \"value\")]\n",
    ")\n",
    "def update_table(n_clicks, document):\n",
    "    if n_clicks > 0:\n",
    "        rows = search_document(document)\n",
    "        if rows:\n",
    "            return [\n",
    "                html.Tr([\n",
    "                    html.Td(row[0]),\n",
    "                    html.Td(row[1]),\n",
    "                    html.Td(row[2]),\n",
    "                    html.Td(row[3]),\n",
    "                    html.Td(row[4]),\n",
    "                    html.Td(row[5]),\n",
    "                    html.Td(row[6]),\n",
    "                    html.Td(row[7]),\n",
    "                    html.Td(row[8]),\n",
    "                    html.Td(row[9]),\n",
    "                    html.Td(row[10])\n",
    "                ]) for row in rows\n",
    "            ]\n",
    "        else:\n",
    "            return html.Tr(html.Td(\"No se encontraron resultados.\"))\n",
    "    else:\n",
    "        return []\n"
   ]
  },
  {
   "cell_type": "code",
   "execution_count": 12,
   "id": "f1b08342-ab35-4bc7-b7dd-c7c3875bbf8f",
   "metadata": {},
   "outputs": [
    {
     "name": "stdout",
     "output_type": "stream",
     "text": [
      "Dash is running on http://127.0.0.1:8050/\n",
      "\n",
      " * Serving Flask app '__main__'\n",
      " * Debug mode: on\n"
     ]
    }
   ],
   "source": [
    "if __name__ == \"__main__\":\n",
    "    app.run(debug=True, use_reloader=False)"
   ]
  },
  {
   "cell_type": "code",
   "execution_count": null,
   "id": "2ce619a0-5f2a-4fa8-965b-dbd19029652d",
   "metadata": {},
   "outputs": [],
   "source": []
  }
 ],
 "metadata": {
  "kernelspec": {
   "display_name": "Python 3 (ipykernel)",
   "language": "python",
   "name": "python3"
  },
  "language_info": {
   "codemirror_mode": {
    "name": "ipython",
    "version": 3
   },
   "file_extension": ".py",
   "mimetype": "text/x-python",
   "name": "python",
   "nbconvert_exporter": "python",
   "pygments_lexer": "ipython3",
   "version": "3.9.16"
  }
 },
 "nbformat": 4,
 "nbformat_minor": 5
}
