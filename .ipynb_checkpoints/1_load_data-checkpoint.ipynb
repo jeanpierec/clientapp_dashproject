{
 "cells": [
  {
   "cell_type": "code",
   "execution_count": 1,
   "id": "74fa80cf-66b6-400d-a365-253def1c9a8a",
   "metadata": {},
   "outputs": [],
   "source": [
    "import pandas as pd\n",
    "import psycopg2"
   ]
  },
  {
   "cell_type": "code",
   "execution_count": 2,
   "id": "ba9219cf-85dc-4394-a174-e71c52b8179e",
   "metadata": {},
   "outputs": [],
   "source": [
    "def create_db():\n",
    "    \"\"\"\n",
    "        This function create a database a setup a connection.\n",
    "        \n",
    "        Returns:\n",
    "            conn: psycopg2 connection object\n",
    "            cur: cursor\n",
    "    \"\"\"\n",
    "    # connect to default database\n",
    "    # example: conn = psycopg2.connect(\"host=localhost dbname=bd user=ljpcastroc password=password\")\n",
    "    conn = psycopg2.connect(\"host=localhost dbname=dmodeldb user=ljpcastroc password=password\")\n",
    "    conn.set_session(autocommit=True)\n",
    "    cur = conn.cursor()\n",
    "    \n",
    "    # create sparkify database with UTF8 encoding\n",
    "    cur.execute(\"DROP   DATABASE IF EXISTS luka\")\n",
    "    cur.execute(\"CREATE DATABASE luka\")\n",
    "    # close connection to default database\n",
    "    conn. close()\n",
    "    conn = psycopg2.connect(\"host=localhost dbname=luka user=ljpcastroc password=password\")\n",
    "    cur = conn.cursor()\n",
    "    \n",
    "    return cur, conn"
   ]
  },
  {
   "cell_type": "code",
   "execution_count": 3,
   "id": "fc9fc0ae-3328-40cb-8e4d-76307093c10a",
   "metadata": {},
   "outputs": [
    {
     "data": {
      "text/html": [
       "<div>\n",
       "<style scoped>\n",
       "    .dataframe tbody tr th:only-of-type {\n",
       "        vertical-align: middle;\n",
       "    }\n",
       "\n",
       "    .dataframe tbody tr th {\n",
       "        vertical-align: top;\n",
       "    }\n",
       "\n",
       "    .dataframe thead th {\n",
       "        text-align: right;\n",
       "    }\n",
       "</style>\n",
       "<table border=\"1\" class=\"dataframe\">\n",
       "  <thead>\n",
       "    <tr style=\"text-align: right;\">\n",
       "      <th></th>\n",
       "      <th>id</th>\n",
       "      <th>first_name</th>\n",
       "      <th>last_name</th>\n",
       "      <th>email</th>\n",
       "      <th>gender</th>\n",
       "      <th>ip_address</th>\n",
       "      <th>mobile</th>\n",
       "      <th>status</th>\n",
       "      <th>document</th>\n",
       "      <th>document_type</th>\n",
       "      <th>payment</th>\n",
       "    </tr>\n",
       "  </thead>\n",
       "  <tbody>\n",
       "    <tr>\n",
       "      <th>0</th>\n",
       "      <td>1</td>\n",
       "      <td>Kyrstin</td>\n",
       "      <td>Cromblehome</td>\n",
       "      <td>kcromblehome0@jalbum.net</td>\n",
       "      <td>Female</td>\n",
       "      <td>16.67.253.33</td>\n",
       "      <td>306-882-9128</td>\n",
       "      <td>False</td>\n",
       "      <td>3315044325</td>\n",
       "      <td>tt</td>\n",
       "      <td>visa</td>\n",
       "    </tr>\n",
       "    <tr>\n",
       "      <th>1</th>\n",
       "      <td>2</td>\n",
       "      <td>Mile</td>\n",
       "      <td>Carlyle</td>\n",
       "      <td>mcarlyle1@vinaora.com</td>\n",
       "      <td>Male</td>\n",
       "      <td>118.149.4.121</td>\n",
       "      <td>130-824-1826</td>\n",
       "      <td>False</td>\n",
       "      <td>707078253</td>\n",
       "      <td>cc</td>\n",
       "      <td>jcb</td>\n",
       "    </tr>\n",
       "    <tr>\n",
       "      <th>2</th>\n",
       "      <td>3</td>\n",
       "      <td>Olimpia</td>\n",
       "      <td>Wegman</td>\n",
       "      <td>owegman2@digg.com</td>\n",
       "      <td>Female</td>\n",
       "      <td>89.187.37.34</td>\n",
       "      <td>741-208-9423</td>\n",
       "      <td>True</td>\n",
       "      <td>2134707941</td>\n",
       "      <td>tt</td>\n",
       "      <td>laser</td>\n",
       "    </tr>\n",
       "    <tr>\n",
       "      <th>3</th>\n",
       "      <td>4</td>\n",
       "      <td>Kalle</td>\n",
       "      <td>Bohin</td>\n",
       "      <td>kbohin3@ucoz.com</td>\n",
       "      <td>Male</td>\n",
       "      <td>135.162.65.40</td>\n",
       "      <td>891-438-9361</td>\n",
       "      <td>False</td>\n",
       "      <td>3555124161</td>\n",
       "      <td>cc</td>\n",
       "      <td>jcb</td>\n",
       "    </tr>\n",
       "    <tr>\n",
       "      <th>4</th>\n",
       "      <td>5</td>\n",
       "      <td>Jehanna</td>\n",
       "      <td>Walworche</td>\n",
       "      <td>jwalworche4@networksolutions.com</td>\n",
       "      <td>Female</td>\n",
       "      <td>29.34.172.170</td>\n",
       "      <td>830-164-9268</td>\n",
       "      <td>False</td>\n",
       "      <td>4194659287</td>\n",
       "      <td>cc</td>\n",
       "      <td>jcb</td>\n",
       "    </tr>\n",
       "  </tbody>\n",
       "</table>\n",
       "</div>"
      ],
      "text/plain": [
       "   id first_name    last_name                             email  gender  \\\n",
       "0   1    Kyrstin  Cromblehome          kcromblehome0@jalbum.net  Female   \n",
       "1   2       Mile      Carlyle             mcarlyle1@vinaora.com    Male   \n",
       "2   3    Olimpia       Wegman                 owegman2@digg.com  Female   \n",
       "3   4      Kalle        Bohin                  kbohin3@ucoz.com    Male   \n",
       "4   5    Jehanna    Walworche  jwalworche4@networksolutions.com  Female   \n",
       "\n",
       "      ip_address        mobile  status    document document_type payment  \n",
       "0   16.67.253.33  306-882-9128   False  3315044325            tt    visa  \n",
       "1  118.149.4.121  130-824-1826   False   707078253            cc     jcb  \n",
       "2   89.187.37.34  741-208-9423    True  2134707941            tt   laser  \n",
       "3  135.162.65.40  891-438-9361   False  3555124161            cc     jcb  \n",
       "4  29.34.172.170  830-164-9268   False  4194659287            cc     jcb  "
      ]
     },
     "execution_count": 3,
     "metadata": {},
     "output_type": "execute_result"
    }
   ],
   "source": [
    "clients = pd.read_csv(\"data/data_clientes.csv\")\n",
    "clients.head()"
   ]
  },
  {
   "cell_type": "code",
   "execution_count": 4,
   "id": "9bd838bf-91ca-43a2-9fb8-dfa5055f95cf",
   "metadata": {},
   "outputs": [
    {
     "data": {
      "text/plain": [
       "Index(['id', 'first_name', 'last_name', 'email', 'gender', 'ip_address',\n",
       "       'mobile', 'status', 'document', 'document_type', 'payment'],\n",
       "      dtype='object')"
      ]
     },
     "execution_count": 4,
     "metadata": {},
     "output_type": "execute_result"
    }
   ],
   "source": [
    "clients.columns"
   ]
  },
  {
   "cell_type": "code",
   "execution_count": 5,
   "id": "f20f7382-6821-4dc7-9c80-fac1bc00635c",
   "metadata": {},
   "outputs": [
    {
     "name": "stdout",
     "output_type": "stream",
     "text": [
      "<class 'pandas.core.frame.DataFrame'>\n",
      "RangeIndex: 1000 entries, 0 to 999\n",
      "Data columns (total 11 columns):\n",
      " #   Column         Non-Null Count  Dtype \n",
      "---  ------         --------------  ----- \n",
      " 0   id             1000 non-null   int64 \n",
      " 1   first_name     1000 non-null   object\n",
      " 2   last_name      1000 non-null   object\n",
      " 3   email          1000 non-null   object\n",
      " 4   gender         1000 non-null   object\n",
      " 5   ip_address     1000 non-null   object\n",
      " 6   mobile         1000 non-null   object\n",
      " 7   status         1000 non-null   bool  \n",
      " 8   document       1000 non-null   int64 \n",
      " 9   document_type  1000 non-null   object\n",
      " 10  payment        1000 non-null   object\n",
      "dtypes: bool(1), int64(2), object(8)\n",
      "memory usage: 79.2+ KB\n"
     ]
    }
   ],
   "source": [
    "clients.info()"
   ]
  },
  {
   "cell_type": "code",
   "execution_count": 6,
   "id": "e0d08383-f49f-4e0a-8294-d2c429420dde",
   "metadata": {},
   "outputs": [],
   "source": [
    "clients_create_table = (\"\"\"CREATE TABLE IF NOT EXISTS clientes (\n",
    "                            \"id\" BIGINT NOT NULL,\n",
    "                            \"first_name\" VARCHAR(150),\n",
    "                            \"last_name\" VARCHAR(150),\n",
    "                            \"email\" VARCHAR(150),\n",
    "                            \"gender\" VARCHAR(150),\n",
    "                            \"ip_address\" VARCHAR(150),\n",
    "                            \"mobile\" VARCHAR(150),\n",
    "                            \"status\" BOOLEAN,\n",
    "                            \"document\" BIGINT,\n",
    "                            \"document_type\" VARCHAR(150),\n",
    "                            \"payment\" VARCHAR(150)\n",
    "                            ) WITH (\n",
    "                            OIDS=FALSE\n",
    "                        )\n",
    "                        ;\"\"\")"
   ]
  },
  {
   "cell_type": "code",
   "execution_count": 7,
   "id": "9d726375-3281-40ac-b7d6-1c26076574b9",
   "metadata": {},
   "outputs": [],
   "source": [
    "cur, conn = create_db()"
   ]
  },
  {
   "cell_type": "code",
   "execution_count": 8,
   "id": "7f294360-9250-4cee-b022-cc3d6e1bf224",
   "metadata": {},
   "outputs": [],
   "source": [
    "cur.execute(clients_create_table)\n",
    "conn.commit()"
   ]
  },
  {
   "cell_type": "code",
   "execution_count": 9,
   "id": "7b86805b-af80-4da7-836b-e0eff1d20a4f",
   "metadata": {},
   "outputs": [],
   "source": [
    "def insert_rows(df, query):\n",
    "    \"\"\"\n",
    "    Insert rows in pandas dataframe to a table.\n",
    "    \"\"\"\n",
    "    for i, row in df.iterrows():\n",
    "        cur.execute(query, list(row))"
   ]
  },
  {
   "cell_type": "code",
   "execution_count": 10,
   "id": "d2c0f184-5667-4957-beaf-15eb5523f5ed",
   "metadata": {},
   "outputs": [],
   "source": [
    "clients_insert_query = (\"\"\"INSERT INTO clientes (\n",
    "                            id, first_name, last_name, email, gender, ip_address, mobile, status, document, document_type, payment\n",
    "                           )\n",
    "                           VALUES (%s, %s, %s, %s, %s, %s, %s, %s, %s, %s, %s)\"\"\")"
   ]
  },
  {
   "cell_type": "code",
   "execution_count": 11,
   "id": "97be172f-4536-4aa1-9b3b-a03cf70e6eda",
   "metadata": {},
   "outputs": [],
   "source": [
    "insert_rows(clients, clients_insert_query)"
   ]
  },
  {
   "cell_type": "code",
   "execution_count": 13,
   "id": "e78de7b2-3f16-4f99-ae3b-1ef7a778bb5b",
   "metadata": {},
   "outputs": [],
   "source": [
    "cur.close()\n",
    "conn.close()"
   ]
  },
  {
   "cell_type": "code",
   "execution_count": null,
   "id": "acce1c71-46ba-4aa5-af19-2b82fa2fcf38",
   "metadata": {},
   "outputs": [],
   "source": []
  },
  {
   "cell_type": "code",
   "execution_count": null,
   "id": "50c082e6-801b-4be0-9bd3-c14f860391b4",
   "metadata": {},
   "outputs": [],
   "source": []
  }
 ],
 "metadata": {
  "kernelspec": {
   "display_name": "Python 3 (ipykernel)",
   "language": "python",
   "name": "python3"
  },
  "language_info": {
   "codemirror_mode": {
    "name": "ipython",
    "version": 3
   },
   "file_extension": ".py",
   "mimetype": "text/x-python",
   "name": "python",
   "nbconvert_exporter": "python",
   "pygments_lexer": "ipython3",
   "version": "3.9.16"
  }
 },
 "nbformat": 4,
 "nbformat_minor": 5
}
